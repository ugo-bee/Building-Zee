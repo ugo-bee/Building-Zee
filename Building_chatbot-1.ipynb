{
 "cells": [
  {
   "cell_type": "markdown",
   "metadata": {},
   "source": [
    "#building a chatbot(Zee) for an Online Food Delivery Service(Possibilities_ng)"
   ]
  },
  {
   "cell_type": "code",
   "execution_count": 1,
   "metadata": {},
   "outputs": [],
   "source": [
    "#first Define  Templates\n",
    "bot_template = \"BOT : {0}\"\n",
    "user_template = \" USER : {0}\""
   ]
  },
  {
   "cell_type": "code",
   "execution_count": 12,
   "metadata": {},
   "outputs": [],
   "source": [
    "#create a function that responds to User's message,create a Bot response  append to User's message \n",
    "def response(message):\n",
    "    bot_message = \" :) Hi  i'm  Zee, how may i be of assitance.\"\n",
    "    return bot_message\n"
   ]
  },
  {
   "cell_type": "code",
   "execution_count": 13,
   "metadata": {},
   "outputs": [
    {
     "name": "stdout",
     "output_type": "stream",
     "text": [
      " :) Hi  i'm  Zee, how may i be of assitance.\n"
     ]
    }
   ],
   "source": [
    "#Test funtion by printing result\n",
    "print(response(\"Hello\"))\n",
    "\n"
   ]
  },
  {
   "cell_type": "code",
   "execution_count": 59,
   "metadata": {},
   "outputs": [],
   "source": [
    "#create another function that sends message to the chatbot and retrive's the bot's response\n",
    "def send_message(message):\n",
    "    print(user_template.format(message))\n",
    "    respond = response(message)\n",
    "    print(bot_template.format(respond))"
   ]
  },
  {
   "cell_type": "code",
   "execution_count": 5,
   "metadata": {},
   "outputs": [
    {
     "name": "stdout",
     "output_type": "stream",
     "text": [
      " USER : Hello\n",
      "BOT : Hello : Hi  i'm  Zee, how may i be of assitance.\n"
     ]
    }
   ],
   "source": [
    "#Test funtion by Sending a message\n",
    "send_message(\"Hello\")"
   ]
  },
  {
   "cell_type": "code",
   "execution_count": 37,
   "metadata": {},
   "outputs": [],
   "source": [
    "#For example lets take a Customer's Order"
   ]
  },
  {
   "cell_type": "code",
   "execution_count": 34,
   "metadata": {},
   "outputs": [],
   "source": [
    "#create a dictionary for containing List of responses to User Message\n",
    "responses = {\n",
    "    \"What cake is available\" : \"We have Chocolate,Red Velvet and Vanilla cakes\",\n",
    "    \"What Loaf is available\" : \"Our Possibilities Maxi,Midi,Mini Loaf's\",\n",
    "    \"Default\" : \"Out of Stock\"\n",
    "}\n"
   ]
  },
  {
   "cell_type": "code",
   "execution_count": 36,
   "metadata": {},
   "outputs": [
    {
     "data": {
      "text/plain": [
       "'We have Chocolate,Red Velvet and Vanilla cakes'"
      ]
     },
     "execution_count": 36,
     "metadata": {},
     "output_type": "execute_result"
    }
   ],
   "source": [
    "#repond to User's message\n",
    "def respond(message):\n",
    "    if message in responses :\n",
    "        return  responses[message]\n",
    "respond(\"What cake is available\")\n"
   ]
  },
  {
   "cell_type": "code",
   "execution_count": 60,
   "metadata": {},
   "outputs": [],
   "source": [
    "#create a dictionary for size responses\n",
    "size_responses = {\n",
    "    \"i want a chocolate cake\" : \"what inch\",\n",
    "    \"i want a Red velvet cake\": \"what  inch\",\n",
    "    \"i want a vanilla cake\" : \"what  inch\",\n",
    "    \"i want a Maxi loaf\" : \"how many\",\n",
    "    \"i want a Mini loaf\" : \"how many\",\n",
    "    \"i want a Midi loaf\" : \"how many\"\n",
    "}"
   ]
  },
  {
   "cell_type": "code",
   "execution_count": 62,
   "metadata": {},
   "outputs": [
    {
     "data": {
      "text/plain": [
       "'what inch'"
      ]
     },
     "execution_count": 62,
     "metadata": {},
     "output_type": "execute_result"
    }
   ],
   "source": [
    "#repond to  Customer's order\n",
    "def respond(message):\n",
    "    if message in size_responses :\n",
    "        return  size_responses[message]\n",
    "respond(\"i want a chocolate cake\")\n"
   ]
  },
  {
   "cell_type": "code",
   "execution_count": 43,
   "metadata": {},
   "outputs": [],
   "source": [
    "#create a dictionary for price list\n",
    "Price_list_response = {\n",
    "    \"6 inch\" : \"$20\",\n",
    "    \"8 inch\": \"$40\",\n",
    "    \"10 inch\": \"$50\",\n",
    "    \"Maxi loaf\": \"$10\",\n",
    "    \"Midi loaf\" : \"$15\",\n",
    "    \"Mini loaf\" : \"$20\"\n",
    "}"
   ]
  },
  {
   "cell_type": "code",
   "execution_count": 63,
   "metadata": {},
   "outputs": [
    {
     "data": {
      "text/plain": [
       "'$40'"
      ]
     },
     "execution_count": 63,
     "metadata": {},
     "output_type": "execute_result"
    }
   ],
   "source": [
    "#repond to Price List\n",
    "def respond(message):\n",
    "    if message in Price_list_response :\n",
    "        return  Price_list_response[message]\n",
    "respond(\"8 inch\")\n"
   ]
  },
  {
   "cell_type": "markdown",
   "metadata": {},
   "source": [
    "#In situations where a Customer's message are not exactly verbatim with the response in the dictionary created \n",
    "# We introduce patterns to match User messages ,to achieve this we import re(regular expressions module)\n",
    "#For example"
   ]
  },
  {
   "cell_type": "code",
   "execution_count": 64,
   "metadata": {},
   "outputs": [
    {
     "name": "stdout",
     "output_type": "stream",
     "text": [
      " USER : The account details?\n"
     ]
    }
   ],
   "source": [
    "# Customer Enquire's for payment option \n",
    "def respond(message):\n",
    "    print(user_template.format(message))\n",
    "respond(\"The account details?\")\n"
   ]
  },
  {
   "cell_type": "code",
   "execution_count": 53,
   "metadata": {},
   "outputs": [
    {
     "name": "stdout",
     "output_type": "stream",
     "text": [
      "string matches\n"
     ]
    }
   ],
   "source": [
    "#Create pattern and test pattern\n",
    "import re\n",
    "pattern = \"account(.*)\"\n",
    "message = \" The account details \"\n",
    "\n",
    "match = re.search(pattern,message)\n",
    "match.group(1)\n",
    "print(\"string matches\")\n"
   ]
  },
  {
   "cell_type": "code",
   "execution_count": 54,
   "metadata": {},
   "outputs": [
    {
     "data": {
      "text/plain": [
       "'The account Zenith Bank,6780317292,Possibilities_ng '"
      ]
     },
     "execution_count": 54,
     "metadata": {},
     "output_type": "execute_result"
    }
   ],
   "source": [
    "#modify grammatical expression of the chatbot to match customers message\n",
    "import re\n",
    "def swap_expressions(phrase):\n",
    "    if \"details\" in phrase:\n",
    "        return re.sub('details','Zenith Bank,6780317292,Possibilities_ng',phrase)\n",
    "swap_expressions(\"The account details \")"
   ]
  }
 ],
 "metadata": {
  "kernelspec": {
   "display_name": "Python 3.9.12 ('base')",
   "language": "python",
   "name": "python3"
  },
  "language_info": {
   "codemirror_mode": {
    "name": "ipython",
    "version": 3
   },
   "file_extension": ".py",
   "mimetype": "text/x-python",
   "name": "python",
   "nbconvert_exporter": "python",
   "pygments_lexer": "ipython3",
   "version": "3.9.12"
  },
  "orig_nbformat": 4,
  "vscode": {
   "interpreter": {
    "hash": "263930470851f494f0ed2879c35b57985588df20f9e529b86e97dd5eb9ddc466"
   }
  }
 },
 "nbformat": 4,
 "nbformat_minor": 2
}
